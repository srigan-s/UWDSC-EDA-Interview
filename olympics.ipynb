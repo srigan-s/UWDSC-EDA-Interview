{
 "cells": [
  {
   "cell_type": "markdown",
   "id": "d920eea3",
   "metadata": {},
   "source": [
    "Univerisity of Waterloo Data Science Club - Exploratory Data Analysis ~ Last 120 Years of Olympic Sporting History"
   ]
  },
  {
   "cell_type": "code",
   "execution_count": null,
   "id": "86d5dc5d",
   "metadata": {},
   "outputs": [],
   "source": [
    "import pandas as pd\n",
    "import seaborn as sns\n",
    "import matplotlib.pyplot as plt"
   ]
  }
 ],
 "metadata": {
  "language_info": {
   "name": "python"
  }
 },
 "nbformat": 4,
 "nbformat_minor": 5
}
